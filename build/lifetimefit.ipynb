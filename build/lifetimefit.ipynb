{
 "cells": [
  {
   "cell_type": "code",
   "execution_count": 9,
   "metadata": {
    "collapsed": false
   },
   "outputs": [
    {
     "name": "stdout",
     "output_type": "stream",
     "text": [
      "878.992305573 7.99770074764\n"
     ]
    }
   ],
   "source": [
    "import numpy as np\n",
    "import matplotlib.pyplot as plt\n",
    "from scipy.optimize import curve_fit\n",
    "%matplotlib notebook\n",
    "\n",
    "def expDeC(x,a,b):\n",
    "    return a*np.exp(-(x)*b)\n",
    "\n",
    "\n",
    "t,s = np.loadtxt(\"K40\",usecols=(1,3), unpack=True)\n",
    "s = s[t>0]\n",
    "t = t[t>0]\n",
    "t = t[s==1]  \n",
    "h , edges = np.histogram(t,500)\n",
    "spacing = edges[1]-edges[0]\n",
    "x = np.linspace(edges[0]+spacing/2., edges[-1]-spacing/2., h.size)\n",
    "Initial = [np.amax(h)*0.1,1./1000.]\n",
    "\n",
    "popt, pcov = curve_fit(expDeC, x, h, p0 = Initial)\n",
    "perr = np.sqrt(np.diag(pcov))\n",
    "\n",
    "print 1./popt[1], perr[1]/(popt[1])**2."
   ]
  },
  {
   "cell_type": "code",
   "execution_count": null,
   "metadata": {
    "collapsed": true
   },
   "outputs": [],
   "source": []
  }
 ],
 "metadata": {
  "kernelspec": {
   "display_name": "Python 2",
   "language": "python",
   "name": "python2"
  },
  "language_info": {
   "codemirror_mode": {
    "name": "ipython",
    "version": 2
   },
   "file_extension": ".py",
   "mimetype": "text/x-python",
   "name": "python",
   "nbconvert_exporter": "python",
   "pygments_lexer": "ipython2",
   "version": "2.7.13"
  }
 },
 "nbformat": 4,
 "nbformat_minor": 2
}
