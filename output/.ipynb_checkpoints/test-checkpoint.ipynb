{
 "metadata": {
  "name": ""
 },
 "nbformat": 3,
 "nbformat_minor": 0,
 "worksheets": [
  {
   "cells": [
    {
     "cell_type": "code",
     "collapsed": false,
     "input": [
      "import numpy as np\n",
      "import matplotlib.pyplot as plt\n",
      "%matplotlib inline\n"
     ],
     "language": "python",
     "metadata": {},
     "outputs": [],
     "prompt_number": 13
    },
    {
     "cell_type": "code",
     "collapsed": false,
     "input": [
      "cat mdom_testoutput_scan_angular.txt"
     ],
     "language": "python",
     "metadata": {},
     "outputs": [
      {
       "output_type": "stream",
       "stream": "stdout",
       "text": [
        "# theta\tphi\tposX\tposY\tposZ\twavelength\temitted photons\tbeam radius [mm]\thits per PMT (#0 to #23)\ttotal hits\r\n",
        "0.000\t0.000\t0.000\t0.000\t207.500\t470.000\t10000\t210.000\t405\t419\t455\t439\t170\t166\t145\t153\t160\t150\t147\t167\t0\t0\t1\t0\t0\t0\t0\t0\t0\t0\t0\t0\t2977\r\n",
        "# theta\tphi\tposX\tposY\tposZ\twavelength\temitted photons\tbeam radius [mm]\thits per PMT (#0 to #23)\ttotal hits\r\n",
        "10.000\t0.000\t36.032\t0.000\t204.348\t470.000\t10000\t210.000\t463\t422\t382\t408\t220\t182\t139\t108\t86\t138\t201\t222\t13\t11\t0\t0\t0\t0\t0\t14\t0\t0\t0\t0\t3009\r\n",
        "# theta\tphi\tposX\tposY\tposZ\twavelength\temitted photons\tbeam radius [mm]\thits per PMT (#0 to #23)\ttotal hits\r\n",
        "20.000\t0.000\t70.969\t0.000\t194.986\t470.000\t10000\t210.000\t529\t362\t342\t373\t292\t205\t92\t34\t31\t95\t230\t304\t66\t48\t0\t0\t0\t0\t1\t36\t0\t0\t0\t0\t3040\r\n",
        "# theta\tphi\tposX\tposY\tposZ\twavelength\temitted photons\tbeam radius [mm]\thits per PMT (#0 to #23)\ttotal hits\r\n",
        "30.000\t0.000\t103.750\t0.000\t179.700\t470.000\t10000\t210.000\t532\t361\t238\t327\t362\t218\t74\t9\t13\t60\t230\t325\t152\t82\t1\t0\t0\t0\t4\t78\t1\t1\t0\t0\t3068\r\n",
        "# theta\tphi\tposX\tposY\tposZ\twavelength\temitted photons\tbeam radius [mm]\thits per PMT (#0 to #23)\ttotal hits\r\n",
        "40.000\t0.000\t133.378\t0.000\t158.954\t470.000\t10000\t210.000\t553\t314\t154\t302\t403\t238\t42\t0\t1\t58\t220\t386\t234\t131\t11\t1\t0\t0\t12\t129\t4\t0\t0\t0\t3193\r\n",
        "# theta\tphi\tposX\tposY\tposZ\twavelength\temitted photons\tbeam radius [mm]\thits per PMT (#0 to #23)\ttotal hits\r\n",
        "50.000\t0.000\t158.954\t0.000\t133.378\t470.000\t10000\t210.000\t490\t245\t97\t265\t461\t216\t16\t0\t0\t27\t229\t466\t313\t197\t13\t0\t0\t0\t18\t175\t31\t0\t0\t1\t3260\r\n",
        "# theta\tphi\tposX\tposY\tposZ\twavelength\temitted photons\tbeam radius [mm]\thits per PMT (#0 to #23)\ttotal hits\r\n",
        "90.000\t0.000\t207.500\t0.000\t0.000\t470.000\t10000\t210.000\t291\t60\t0\t62\t522\t209\t1\t0\t0\t0\t186\t478\t505\t333\t63\t0\t0\t0\t47\t337\t230\t11\t0\t149\t3484\r\n"
       ]
      }
     ],
     "prompt_number": 7
    },
    {
     "cell_type": "code",
     "collapsed": false,
     "input": [
      "theta,hits = np.loadtxt(\"./mdom_testoutput_scan_angular.txt\", comments='#', delimiter=\"\\t\", usecols=(0,32), unpack=True)"
     ],
     "language": "python",
     "metadata": {},
     "outputs": [],
     "prompt_number": 8
    },
    {
     "cell_type": "code",
     "collapsed": false,
     "input": [
      "def domyplot():\n",
      "    plt.plot(theta,hits)\n",
      "    print \"yo\"\n",
      "    return 23\n"
     ],
     "language": "python",
     "metadata": {},
     "outputs": [],
     "prompt_number": 25
    },
    {
     "cell_type": "code",
     "collapsed": false,
     "input": [
      "a = domyplot()\n",
      "print a"
     ],
     "language": "python",
     "metadata": {},
     "outputs": [
      {
       "output_type": "stream",
       "stream": "stdout",
       "text": [
        "yo\n",
        "23\n"
       ]
      },
      {
       "metadata": {},
       "output_type": "display_data",
       "png": "[encoded data removed]",
       "text": [
        "<matplotlib.figure.Figure at 0x7fcd2418e910>"
       ]
      }
     ],
     "prompt_number": 24
    },
    {
     "cell_type": "code",
     "collapsed": false,
     "input": [
      "print a"
     ],
     "language": "python",
     "metadata": {},
     "outputs": [
      {
       "output_type": "stream",
       "stream": "stdout",
       "text": [
        "23\n"
       ]
      }
     ],
     "prompt_number": 26
    },
    {
     "cell_type": "code",
     "collapsed": false,
     "input": [],
     "language": "python",
     "metadata": {},
     "outputs": []
    }
   ],
   "metadata": {}
  }
 ]
}